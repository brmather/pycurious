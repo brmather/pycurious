{
 "cells": [
  {
   "cell_type": "markdown",
   "metadata": {},
   "source": [
    "# Example 4 - Spatial variation of Curie depth\n",
    "\n",
    "In Example 2 and 3 we computed the Curie depth for a single point using a fixed window. Here, compute the Curie depth over a magnetic anomaly and estimate its uncertainty.\n",
    "\n",
    "### Contents\n",
    "\n",
    "- [Optimisation routine](#Optimisation-routine)"
   ]
  },
  {
   "cell_type": "code",
   "execution_count": null,
   "metadata": {},
   "outputs": [],
   "source": [
    "import numpy as np\n",
    "import matplotlib.pyplot as plt\n",
    "%matplotlib inline\n",
    "\n",
    "import pycurious"
   ]
  },
  {
   "cell_type": "code",
   "execution_count": null,
   "metadata": {},
   "outputs": [],
   "source": [
    "# load x,y,anomaly\n",
    "mag_data = np.loadtxt(\"../../data/test_mag_data.txt\")\n",
    "\n",
    "nx, ny = 305, 305\n",
    "\n",
    "x = mag_data[:,0]\n",
    "y = mag_data[:,1]\n",
    "d = mag_data[:,2].reshape(ny,nx)\n",
    "\n",
    "xmin, xmax = x.min(), x.max()\n",
    "ymin, ymax = y.min(), y.max()\n",
    "\n",
    "# initialise CurieOptimise object\n",
    "grid = pycurious.CurieOptimiseTanaka(d, xmin, xmax, ymin, ymax)"
   ]
  },
  {
   "cell_type": "markdown",
   "metadata": {},
   "source": [
    "## Optimisation routine\n",
    "\n",
    "Here we iteratively evaluate the Curie depth across the magnetic anomaly. We use gradient-based inversion which is deterministic, because it doesn't include uncertainty, but a quick means to recover Curie depth from the magnetic anomaly."
   ]
  },
  {
   "cell_type": "code",
   "execution_count": null,
   "metadata": {},
   "outputs": [],
   "source": [
    "# get centroids\n",
    "\n",
    "window_size = 200e3\n",
    "xc_list, yc_list = grid.create_centroid_list(window_size, spacingX=10e3, spacingY=10e3)\n",
    "\n",
    "print(\"number of centroids = {}\".format(len(xc_list)))"
   ]
  },
  {
   "cell_type": "code",
   "execution_count": null,
   "metadata": {},
   "outputs": [],
   "source": [
    "zt, z0, zt_int, z0_int, zt_stdev, z0_stdev = grid.optimise_routine(window_size, xc_list, yc_list, taper=None)\n",
    "\n",
    "CPD, sigma_CPD = grid.calculate_CPD(zt, z0, zt_stdev, z0_stdev)"
   ]
  },
  {
   "cell_type": "code",
   "execution_count": null,
   "metadata": {},
   "outputs": [],
   "source": [
    "# get dimensions of domain\n",
    "xcoords = np.unique(xc_list)\n",
    "ycoords = np.unique(yc_list)\n",
    "nc, nr = xcoords.size, ycoords.size\n",
    "\n",
    "\n",
    "# plot results\n",
    "fig, (ax1, ax2) = plt.subplots(1, 2, sharex=True, sharey=True, figsize=(12,4.))\n",
    "\n",
    "im1 = ax1.imshow(CPD.reshape(nr,nc))\n",
    "im2 = ax2.imshow(sigma_CPD.reshape(nr,nc))\n",
    "\n",
    "fig.colorbar(im1, ax=ax1, label=\"CPD (km)\")\n",
    "fig.colorbar(im2, ax=ax2, label=\"CPD stdev (km)\")\n",
    "\n",
    "ax1.set_title('Curie depth')\n",
    "ax2.set_title('Uncertainty')"
   ]
  },
  {
   "cell_type": "code",
   "execution_count": null,
   "metadata": {},
   "outputs": [],
   "source": []
  }
 ],
 "metadata": {
  "kernelspec": {
   "display_name": "Python 3 (ipykernel)",
   "language": "python",
   "name": "python3"
  },
  "language_info": {
   "codemirror_mode": {
    "name": "ipython",
    "version": 3
   },
   "file_extension": ".py",
   "mimetype": "text/x-python",
   "name": "python",
   "nbconvert_exporter": "python",
   "pygments_lexer": "ipython3",
   "version": "3.9.10"
  }
 },
 "nbformat": 4,
 "nbformat_minor": 2
}
