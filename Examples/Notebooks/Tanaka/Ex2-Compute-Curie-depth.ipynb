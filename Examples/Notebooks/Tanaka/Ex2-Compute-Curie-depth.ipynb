{
 "cells": [
  {
   "cell_type": "markdown",
   "metadata": {},
   "source": [
    "# Example 2 - Compute Curie depth\n",
    "Tanaka *et al.* (1999) based their method upon an expression for the radial power spectrum that assumes random magnetisation of the crust, and a radially averaged power spectra $\\Phi_{\\Delta T}(|k|)$:\n",
    "\n",
    "$$(1) \\Phi_{\\Delta T}(|k|)=Ae^{-2|k|Z_t}(1-e^{-|k|(Z_b-Z_t)})^2$$\n",
    "\n",
    "where:\n",
    " - $k$ - spatial wavenumber ($k=2\\pi/\\lambda$, where $\\lambda$ is wavelength).\n",
    " - $Z_t$ - top of assumed magnetic source.\n",
    " - $Z_b$ - bottom of assumed magnetic source.\n",
    " - ($Z_b-Z_t$ is hence the thickness of the magnetic source)\n",
    "\n",
    "For wavelengths less than twice the source thickness, this simplifies to:\n",
    "\n",
    "$$(2) \\ln [\\Phi_{\\Delta T}(|k|)^{1/2}] = \\ln B-|k|Z_t $$\n",
    "\n",
    "where $B$ is another constant. Conversely, (1) can be rewritten, with $Z_o$ as the centroid depth of the magnetic source:\n",
    "\n",
    "$$(3) \\Phi_{\\Delta T}(|k|)^{1/2} = Ce^{-|k|Z_o}(e^{-|k|(Z_t-Z_o)}-e^{-|k|(Z_b-Z_o)}) $$\n",
    "\n",
    "For long wavelengths, where $2d$ is the magnetic source thickness:\n",
    "$$(4) \\Phi_{\\Delta T}(|k|)^{1/2} = Ce^{-|k|Z_o}(e^{-|k|(-d)}-e^{-|k|(-d)})\\approx Ce^{-|k|Z_o}2|k|d $$\n",
    "\n",
    "$$ \\ln \\{\\Phi_{\\Delta T}(|k|)^{1/2}/|k|\\}=\\ln D-|k|Z_o  $$\n",
    "\n",
    "\n",
    "Estimates of $Z_t$ and $Z_o$ can be estimated from Equations (2) and (5), and hence the base of the magnetic source (assumed to be at the Curie point depth):\n",
    "\n",
    "$$(6) Z_b=Z_o-(Z_t-Z_o) = 2Z_o-Z_t $$\n",
    "\n",
    "### Contents\n",
    "\n",
    "- [Plot radial power spectrum](#Plot-radial-power-spectrum)\n",
    "- [Compute CPD Estimate](#Compute-cpd-estimate)"
   ]
  },
  {
   "cell_type": "code",
   "execution_count": null,
   "metadata": {},
   "outputs": [],
   "source": [
    "import numpy as np\n",
    "import matplotlib.pyplot as plt\n",
    "%matplotlib inline\n",
    "\n",
    "import pycurious"
   ]
  },
  {
   "cell_type": "code",
   "execution_count": null,
   "metadata": {},
   "outputs": [],
   "source": [
    "# load x,y,anomaly\n",
    "mag_data = np.loadtxt(\"../../data/test_mag_data.txt\")\n",
    "\n",
    "nx, ny = 305, 305\n",
    "\n",
    "x = mag_data[:,0]\n",
    "y = mag_data[:,1]\n",
    "d = mag_data[:,2].reshape(ny,nx)\n",
    "\n",
    "xmin, xmax = x.min(), x.max()\n",
    "ymin, ymax = y.min(), y.max()"
   ]
  },
  {
   "cell_type": "markdown",
   "metadata": {},
   "source": [
    "## Plot radial power spectrum\n",
    "The radial power spectrum is computed from a square window of the magnetic anomaly. Methods to select window sizes and compute the Fast Fourier Transform (FFT) belong to the `CurieGrid` object. We apply the default `np.hanning` taper to the power spectrum as in [Ex1-Plot-power-spectrum](#./Ex1-Plot-power-spectrum.ipynb).\n",
    "\n",
    "By default the FFT of the magnetic anomaly is raised to the power 2:\n",
    "\n",
    "```python\n",
    "grid.radial_spectrum(subgrid, taper=None, power=2.0, **kwargs)\n",
    "```\n",
    "\n",
    "which is compatible with Bouligand _et al._ (2009) computation of Curie depth. For Tanaka *et al.* (1999), however, we need to take the square root which is set with `power=0.5`."
   ]
  },
  {
   "cell_type": "code",
   "execution_count": null,
   "metadata": {},
   "outputs": [],
   "source": [
    "# initialise CurieOptimise object\n",
    "grid = pycurious.CurieOptimise(d, xmin, xmax, ymin, ymax)\n",
    "#grid = pycurious.CurieGrid(d, xmin, xmax, ymin, ymax)\n",
    "\n",
    "# pick the centroid\n",
    "xpt = 0.5*(xmin + xmax)\n",
    "ypt = 0.5*(ymin + ymax)\n",
    "\n",
    "window_size = 200e3\n",
    "subgrid = grid.subgrid(window_size, xpt, ypt)"
   ]
  },
  {
   "cell_type": "code",
   "execution_count": null,
   "metadata": {},
   "outputs": [],
   "source": [
    "k, Phi, sigma_Phi = grid.radial_spectrum(subgrid, taper=None, power=0.5)\n",
    "\n",
    "# Plot of power spectrum, as function of spatial frequency\n",
    "plt.plot(k/(2*np.pi), Phi/(2*np.pi), '-o')\n",
    "plt.title('Power Spectrum')\n",
    "plt.xlabel(r'$|k|/(2\\pi)$ [km$^{-1}$]')\n",
    "plt.ylabel(r'$\\ln(\\Phi_{\\Delta T}(|k|)^{1/2})/(2\\pi)$')\n",
    "plt.show()"
   ]
  },
  {
   "cell_type": "code",
   "execution_count": null,
   "metadata": {},
   "outputs": [],
   "source": [
    "Phi_n = np.log(np.exp(Phi)/k)\n",
    "plt.plot(k/(2*np.pi), Phi_n/(2*np.pi), '-o')\n",
    "plt.title('Power Spectrum, weighted by k')\n",
    "plt.xlabel(r'$|k|/(2\\pi)$ [km$^{-1}$]')\n",
    "plt.ylabel(r'$\\ln(\\Phi_{\\Delta T}(|k|)^{1/2}/|k|)/(2\\pi)$')\n",
    "plt.show()"
   ]
  },
  {
   "cell_type": "markdown",
   "metadata": {},
   "source": [
    "## Compute CPD Estimate\n",
    "As described above, once the power spectrum (and weighted spectrum) are computed, then the gradient of linear fits of certain wavenumber/spatial frequency windows can be taken as estimates of $Z_t$ and $Z_o$. The weighted linear fitting of the respective spectral window is implemented in the `CurieGrid` parent class as `tanaka1999`, and takes the spectrum, wave number, and spectrum error as inputs. The function also has functionality to pass specific spectral windows for each spectra, however, the default is to consider spatial frequencies of 0.05 - 0.2 (recalling that $k$, the wavenumber, is proportional to the spatial frequency $\\nu$ by $k=2\\pi\\nu$).\n",
    "\n",
    "\n",
    "The function has two tuple returns: the gradient estimate, intercept and errors of $Z_t$ and $Z_o$. The gradient and errors can then be passed into the `CurieGrid.ComputeTanaka` method to obtain estimates of $Zb$ and $\\varepsilon Zb$."
   ]
  },
  {
   "cell_type": "code",
   "execution_count": null,
   "metadata": {
    "scrolled": true
   },
   "outputs": [],
   "source": [
    "(Ztr,btr,dZtr), (Zor, bor, dZor) = pycurious.tanaka1999(k, Phi, sigma_Phi, (0,0.1), (0.2,0.3))\n",
    "Zb, eZb = pycurious.ComputeTanaka(Ztr, dZtr, Zor, dZor)\n",
    "\n",
    "print('Zb estimate: {:.2f} +/- {:.2f} km'.format(Zb, eZb))"
   ]
  },
  {
   "cell_type": "code",
   "execution_count": null,
   "metadata": {},
   "outputs": [],
   "source": [
    "# make two plots with Z-lines overlain.\n",
    "# Plot of power spectrum, as function of spatial frequency\n",
    "fig, (ax1, ax2) = plt.subplots(1,2, figsize=(16,6),)\n",
    "\n",
    "ax1.plot(k/(2*np.pi), Phi/(2*np.pi), '-bo', k/(2*np.pi), (Ztr*k/(2*np.pi)+btr)/(2*np.pi),'r-')\n",
    "#ax1.title('Power Spectrum')\n",
    "ax1.set_xlabel(r'$|k|/(2\\pi)$ [km$^{-1}$]')\n",
    "ax1.set_ylabel(r'$\\ln(\\Phi_{\\Delta T}(|k|)^{1/2})/(2\\pi)$')\n",
    "\n",
    "ax2.plot(k/(2*np.pi), Phi_n/(2*np.pi), '-o',k/(2*np.pi),(Zor*k/(2*np.pi)+bor)/(2*np.pi),'r-')\n",
    "ax2.set_xlabel(r'$|k|/(2\\pi)$ [km$^{-1}$]')\n",
    "ax2.set_ylabel(r'$\\ln(\\Phi_{\\Delta T}(|k|)^{1/2}/|k|)/(2\\pi)$')\n",
    "plt.show()"
   ]
  },
  {
   "cell_type": "code",
   "execution_count": null,
   "metadata": {},
   "outputs": [],
   "source": []
  }
 ],
 "metadata": {
  "kernelspec": {
   "display_name": "Python 3",
   "language": "python",
   "name": "python3"
  },
  "language_info": {
   "codemirror_mode": {
    "name": "ipython",
    "version": 3
   },
   "file_extension": ".py",
   "mimetype": "text/x-python",
   "name": "python",
   "nbconvert_exporter": "python",
   "pygments_lexer": "ipython3",
   "version": "3.6.9"
  }
 },
 "nbformat": 4,
 "nbformat_minor": 2
}
