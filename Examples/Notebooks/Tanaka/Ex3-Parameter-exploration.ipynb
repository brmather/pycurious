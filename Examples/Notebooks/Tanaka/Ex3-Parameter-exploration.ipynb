{
 "cells": [
  {
   "cell_type": "markdown",
   "metadata": {},
   "source": [
    "# Example 3 - Parameter Exploration of Spectral Analysis method\n",
    "\n",
    "Due to the deterministic approach that [Tanaka *et al.*, 1999](http://linkinghub.elsevier.com/retrieve/pii/S0040195199000724) uses for estimating $Z_b$, the uncertainties returned by `CurieGrid.tanaka1999` are the simple results of error propagation from the initial spectra uncertainties. The spectra uncertainties represent the variance within the sampled sector of the 2D FFT, and may comprise both noise and anisotropic signal.\n",
    "\n",
    "We present here several tests of the `CurieGrid.tanaka1999` function in order to explore how the input parameters affect the resulting Curie point depth estimates. In particular, we consider the following:\n",
    "\n",
    "1. Effect of where in $k$-space is specific window used, separately for both the power and $k$-weighted power spectra (i.e., which $k$ do we consider?).\n",
    "2. Effect of $k$-space window size (i.e., how much of the $k$-domain do we consider?). It is important to note that increasing the $k$-bandwidth also stabilises the estimation by increasing the statistics of the spectrum portion.\n",
    "3. Effect of magnetic data window size (i.e., domain of magnetic data before computing FFT).\n",
    "\n",
    "### Contents\n",
    "\n",
    "- [Varying spatial frequency range](#Varying-spatial-frequency-range)\n",
    "- [Varying spatial frequency size](#Varying-spatial-frequency-size)\n",
    "- [Varying window size of magnetic anomaly](#Varying-window-size-of-magnetic-anomaly)"
   ]
  },
  {
   "cell_type": "code",
   "execution_count": null,
   "metadata": {},
   "outputs": [],
   "source": [
    "import numpy as np\n",
    "import matplotlib.pyplot as plt\n",
    "%matplotlib inline\n",
    "\n",
    "import pycurious"
   ]
  },
  {
   "cell_type": "code",
   "execution_count": null,
   "metadata": {},
   "outputs": [],
   "source": [
    "# load x,y,anomaly\n",
    "mag_data = np.loadtxt(\"../../data/test_mag_data.txt\")\n",
    "\n",
    "nx, ny = 305, 305\n",
    "\n",
    "x = mag_data[:,0]\n",
    "y = mag_data[:,1]\n",
    "d = mag_data[:,2].reshape(ny,nx)\n",
    "\n",
    "xmin, xmax = x.min(), x.max()\n",
    "ymin, ymax = y.min(), y.max()\n",
    "\n",
    "# initialise CurieOptimise object\n",
    "grid = pycurious.CurieOptimise(d, xmin, xmax, ymin, ymax)\n",
    "\n",
    "# pick centroid\n",
    "xpt = xmin + (xmax-xmin)/2\n",
    "ypt = ymin + (ymax-ymin)/2"
   ]
  },
  {
   "cell_type": "markdown",
   "metadata": {},
   "source": [
    "## Varying spatial frequency range\n",
    "\n",
    "This test explores where in $k$-space is specific window used, separately for both the power and $k$-weighted power."
   ]
  },
  {
   "cell_type": "code",
   "execution_count": null,
   "metadata": {},
   "outputs": [],
   "source": [
    "# 1) Where in k-space do we locate window?\n",
    "window_size = 304e3\n",
    "subgrid = grid.subgrid(window_size, xpt, ypt)\n",
    "k, Phi, sigma_Phi = grid.radial_spectrum(subgrid, taper=None, power=0.5)\n",
    "\n",
    "# Number of bins to divide k-range into\n",
    "nbins = 10\n",
    "hmap = np.zeros((nbins**2,3))\n",
    "\n",
    "# k-range divided between 0 (i.e., DC), and 0.3 (i.e., spatial wavelengths of ~20 km)\n",
    "kmin_range = np.linspace(0., 0.3, nbins)\n",
    "kmax_range = kmin_range + (0.3/nbins)\n",
    "\n",
    "for j in range(0,nbins):\n",
    "    for l in range(0,nbins):\n",
    "        kmin0 = kmin_range[j]\n",
    "        kmin1 = kmax_range[j]\n",
    "        kmax0 = kmin_range[l]\n",
    "        kmax1 = kmax_range[l]\n",
    "        \n",
    "        (Ztr,btr,dZtr), (Zor, bor, dZor) = pycurious.tanaka1999(k, Phi, sigma_Phi, (kmin0, kmin1), (kmax0, kmax1))\n",
    "        Zb,eZb = pycurious.ComputeTanaka(Ztr, dZtr, Zor, dZor)\n",
    "        \n",
    "        hmap[j*nbins+l,0] = (kmin0+kmin1)/2\n",
    "        hmap[j*nbins+l,1] = (kmax0+kmax1)/2\n",
    "        hmap[j*nbins+l,2] = Zb"
   ]
  },
  {
   "cell_type": "code",
   "execution_count": null,
   "metadata": {},
   "outputs": [],
   "source": [
    "fig2 = plt.figure(figsize=(16,16))\n",
    "\n",
    "ax2 = fig2.add_subplot(111)\n",
    "ax2.set_xlabel(r'$\\nu$ window of $\\Phi/|k|$ (km$^{-1}$) (for Zo)')\n",
    "ax2.set_ylabel(r'$\\nu$ window of $\\Phi$ (for Zt)')\n",
    "\n",
    "# SCATTER PLOT\n",
    "im2 = ax2.scatter(hmap[:,1], hmap[:,0], 2000, np.clip(hmap[:,2],10,20), marker='s')\n",
    "fig2.colorbar(im2, label='CPD (km)')\n",
    "plt.title('Heatmap of CPD')"
   ]
  },
  {
   "cell_type": "markdown",
   "metadata": {},
   "source": [
    "Results of this test suggest that the precise $k$ location of $Z_t$ is significantly less influential than the $k$ location of $Z_o$. Furthermore, for this test case with a known $Z_b$ of 16 km, a spatial frequency $\\nu$ window of $0.125-0.2$ (i.e., $k\\in\\{0.8-1.25\\}$ gives estimates consistent with the true $Z_b$. For simplicity, based upon this test we see minimal reason to not use the same $\\nu/k$ window for each spectrum."
   ]
  },
  {
   "cell_type": "markdown",
   "metadata": {},
   "source": [
    "## Varying spatial frequency size\n",
    "\n",
    "Explore the effect of $k$-space window size (i.e., how much of the $k$-domain do we consider?). Increasing the $k$-bandwidth also stabilises the estimation by increasing the statistics of the spectrum portion."
   ]
  },
  {
   "cell_type": "code",
   "execution_count": null,
   "metadata": {},
   "outputs": [],
   "source": [
    "# 2) How big a bandwidth in k-space do we want?\n",
    "\n",
    "k, Phi, sigma_Phi = grid.radial_spectrum(subgrid, taper=None, power=0.5)\n",
    "\n",
    "# We are testing this by taking one central spatial frequency (k=1), and estimating Zb with increasing k-bandwidths.\n",
    "# Recall k=2*pi*nu\n",
    "nu = 1.0/(2.0*np.pi)\n",
    "\n",
    "nbins = 30\n",
    "output = np.zeros((nbins,3))\n",
    "nr = np.linspace(0., 0.3, nbins+1)\n",
    "output[:,0] = nr[1:]\n",
    "\n",
    "for j in range(0,nbins,1):\n",
    "    kmin = nu - 0.5*output[j,0]\n",
    "    kmax = nu + 0.5*output[j,0]\n",
    "    \n",
    "    (Ztr,btr,dZtr), (Zor, bor, dZor) = pycurious.tanaka1999(k, Phi, sigma_Phi, (kmin, kmax), (kmin, kmax))\n",
    "    Zb, eZb = pycurious.ComputeTanaka(Ztr, dZtr, Zor, dZor)\n",
    "    output[j,1] = Zb\n",
    "    output[j,2] = eZb\n",
    "    \n",
    "fig2 = plt.figure(figsize=(8,8))\n",
    "ax2 = fig2.add_subplot(111)\n",
    "ax2.errorbar(output[:,0], output[:,1], yerr=output[:,2])\n",
    "ax2.invert_yaxis()\n",
    "ax2.set_xlabel('$\\\\nu$-bandwidth')\n",
    "ax2.set_ylabel('CPD depth (km)')"
   ]
  },
  {
   "cell_type": "markdown",
   "metadata": {},
   "source": [
    "The CPD estimates resulting from this test become consistent for $\\nu$-bandwidths greater than approximately 0.1. Statistics improve with larger bandwidths, however, it is worth remaining aware of the typically non-linear trend of the spectrum, as it may not be appropriate for a linear fit over a large domain of $\\nu$."
   ]
  },
  {
   "cell_type": "markdown",
   "metadata": {},
   "source": [
    "## Varying window size\n",
    "\n",
    "Effect of magnetic data window size - i.e., domain of magnetic data before computing the FFT."
   ]
  },
  {
   "cell_type": "code",
   "execution_count": null,
   "metadata": {},
   "outputs": [],
   "source": [
    "# 3) How large a window width of magnetic data is required?\n",
    "grid = pycurious.CurieOptimise(d, xmin, xmax, ymin, ymax)\n",
    "xpt = xmin + (xmax-xmin)/2\n",
    "ypt = ymin + (ymax-ymin)/2\n",
    "\n",
    "nwin = 50\n",
    "baseW = 10000\n",
    "inc = 2500\n",
    "\n",
    "output = np.zeros((nwin,3))\n",
    "\n",
    "# Define 'ws' as variable window size index\n",
    "for i in range(0, nwin):\n",
    "    ws = baseW + i*inc\n",
    "    subgrid = grid.subgrid(ws, xpt, ypt)\n",
    "    k, Phi, sigma_Phi = grid.radial_spectrum(subgrid, taper=None, power=0.5)\n",
    "    (Ztr,btr,dZtr), (Zor, bor, dZor) = pycurious.tanaka1999(k, Phi, sigma_Phi, (0.11, 0.21), (0.11, 0.21))\n",
    "    Zb, eZb = pycurious.ComputeTanaka(Ztr, dZtr, Zor, dZor)\n",
    "    \n",
    "    output[i] = [ws, Zb, eZb]\n",
    "    #print('Zb estimate for '+str(ws)+' m: '+np.array2string(Zb)+', +/- '+np.array2string(eZb)+' km')\n",
    "\n",
    "fig, (ax1, ax2) = plt.subplots(1,2, figsize=(16,6),)\n",
    "ax1.plot(output[:,0], output[:,1])\n",
    "ax1.set_ylim(0,30)\n",
    "ax1.invert_yaxis()\n",
    "ax1.set_xlabel('Data window size (m)')\n",
    "ax1.set_ylabel('CPD estimate (km)')\n",
    "\n",
    "ax2.plot(output[:,0], output[:,2])\n",
    "ax2.set_xlabel('Data window size (m)')\n",
    "ax2.set_ylabel('CPD misfit (km)')\n",
    "#plt.gca().invert_yaxis()\n",
    "#plt.xlabel('Data window size (km)')\n",
    "#plt.ylabel('CPD depth (km)')"
   ]
  },
  {
   "cell_type": "markdown",
   "metadata": {},
   "source": [
    "The results of this test highlight that there is a significant amount of variability in the CPD estimates at all window sizes, inferring that where possible, a range of window sizes should be tested for any data set. However, the righthand plot of propagated error in the CPD estimates clarifies that estimates from larger windows are more robust. In particular, with the prior knowledge that the CPD of the test data is 16 km, window sizes of greater than 80 km show a reduced improvement in statistics. "
   ]
  }
 ],
 "metadata": {
  "kernelspec": {
   "display_name": "Python 3",
   "language": "python",
   "name": "python3"
  },
  "language_info": {
   "codemirror_mode": {
    "name": "ipython",
    "version": 3
   },
   "file_extension": ".py",
   "mimetype": "text/x-python",
   "name": "python",
   "nbconvert_exporter": "python",
   "pygments_lexer": "ipython3",
   "version": "3.6.9"
  }
 },
 "nbformat": 4,
 "nbformat_minor": 2
}
