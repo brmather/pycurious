{
 "cells": [
  {
   "cell_type": "markdown",
   "metadata": {},
   "source": [
    "# Example 3 - Parameter Exploration\n",
    "\n",
    "Due to the deterministic approach that [Tanaka *et al.*, 1999](http://linkinghub.elsevier.com/retrieve/pii/S0040195199000724) uses for estimating $Z_b$, the uncertainties returned by `CurieGrid.tanaka1999` are the simple results of error propagation from the initial spectra uncertainties. The spectra uncertainties represent the variance within the sampled sector of the 2D FFT, and may comprise both noise and anisotropic signal.\n",
    "\n",
    "We present here several tests of the `CurieGrid.tanaka1999` function in order to explore how the input parameters affect the resulting Curie point depth estimates. In particular, we consider the following:\n",
    "\n",
    "1. Effect of where in $k$-space is specific window used, separately for both the power and $k$-weighted power spectra (i.e., which $k$ do we consider?).\n",
    "2. Effect of $k$-space window size (i.e., how much of the $k$-domain do we consider?). It is important to note that increasing the $k$-bandwidth also stabilises the estimation by increasing the statistics of the spectrum portion.\n",
    "3. Effect of magnetic data window size (i.e., domain of magnetic data before computing FFT).\n",
    "\n",
    "### Contents\n",
    "\n",
    "- [Varying spatial frequency range](#Varying-spatial-frequency-range)\n",
    "- [Varying spatial frequency size](#Varying-spatial-frequency-size)\n",
    "- [Varying window size of magnetic anomaly](#Varying-window-size-of-magnetic-anomaly)"
   ]
  },
  {
   "cell_type": "code",
   "execution_count": null,
   "metadata": {},
   "outputs": [],
   "source": [
    "import numpy as np\n",
    "import matplotlib.pyplot as plt\n",
    "%matplotlib inline\n",
    "\n",
    "import pycurious"
   ]
  },
  {
   "cell_type": "code",
   "execution_count": null,
   "metadata": {},
   "outputs": [],
   "source": [
    "# load x,y,anomaly\n",
    "mag_data = np.loadtxt(\"../../data/test_mag_data.txt\")\n",
    "\n",
    "nx, ny = 305, 305\n",
    "\n",
    "x = mag_data[:,0]\n",
    "y = mag_data[:,1]\n",
    "d = mag_data[:,2].reshape(ny,nx)\n",
    "\n",
    "xmin, xmax = x.min(), x.max()\n",
    "ymin, ymax = y.min(), y.max()\n",
    "\n",
    "# initialise object\n",
    "grid = pycurious.CurieOptimiseTanaka(d, xmin, xmax, ymin, ymax)\n",
    "\n",
    "# pick centroid\n",
    "xpt = xmin + (xmax-xmin)/2\n",
    "ypt = ymin + (ymax-ymin)/2"
   ]
  },
  {
   "cell_type": "markdown",
   "metadata": {},
   "source": [
    "## Varying spatial frequency range\n",
    "\n",
    "This test explores where in $k$-space is specific window used, separately for both the power and $k$-weighted power."
   ]
  },
  {
   "cell_type": "code",
   "execution_count": null,
   "metadata": {},
   "outputs": [],
   "source": [
    "# 1) Where in k-space do we locate window?\n",
    "window_size = 304e3\n",
    "\n",
    "zt_array = np.arange(0.0, 0.5, 0.05)\n",
    "z0_array = np.arange(0.0, 0.5, 0.05)\n",
    "\n",
    "z0q, ztq = np.meshgrid(z0_array, zt_array)\n",
    "\n",
    "CPD_grid       = np.zeros((zt_array.size, z0_array.size))\n",
    "sigma_CPD_grid = np.zeros((zt_array.size, z0_array.size))\n",
    "\n",
    "\n",
    "for row, zt_min in enumerate(zt_array):\n",
    "    for col, z0_min in enumerate(z0_array):\n",
    "        zt_max = zt_min + 0.1\n",
    "        z0_max = z0_min + 0.1\n",
    "\n",
    "        zt_range = (zt_min, zt_max)\n",
    "        z0_range = (z0_min, z0_max)\n",
    "\n",
    "        zt, z0, zt_int, z0_int, sigma_zt, sigma_z0 = grid.optimise(window_size,\n",
    "                                                                   xpt, \n",
    "                                                                   ypt,\n",
    "                                                                   zt_range,\n",
    "                                                                   z0_range,\n",
    "                                                                   taper=None)\n",
    "\n",
    "        CPD, sigma_CPD = grid.calculate_CPD(zt, z0, sigma_zt, sigma_z0)\n",
    "\n",
    "        CPD_grid[row,col]       = CPD\n",
    "        sigma_CPD_grid[row,col] = sigma_CPD\n"
   ]
  },
  {
   "cell_type": "code",
   "execution_count": null,
   "metadata": {},
   "outputs": [],
   "source": [
    "fig = plt.figure(figsize=(12,10))\n",
    "ax1 = fig.add_subplot(111, xlabel='z0', ylabel='zt')\n",
    "sc1 = ax1.scatter(ztq.flat, z0q.flat, c=CPD_grid.flat, s=1000, marker='s')\n",
    "fig.colorbar(sc1, label='CPD (km)')"
   ]
  },
  {
   "cell_type": "markdown",
   "metadata": {},
   "source": [
    "## Varying spatial frequency size\n",
    "\n",
    "Explore the effect of $k$-space window size (i.e., how much of the $k$-domain do we consider?). Increasing the $k$-bandwidth also stabilises the estimation by increasing the statistics of the spectrum portion."
   ]
  },
  {
   "cell_type": "code",
   "execution_count": null,
   "metadata": {},
   "outputs": [],
   "source": [
    "# 2) How big a bandwidth in k-space do we want?\n",
    "\n",
    "nbins = 30\n",
    "kspacing = np.linspace(0.05, 0.1, nbins)\n",
    "\n",
    "CPD_grid       = np.zeros(nbins)\n",
    "sigma_CPD_grid = np.zeros(nbins)\n",
    "\n",
    "# minimum bounds for zt and z0\n",
    "zt_min = 0.2\n",
    "z0_min = 0.0\n",
    "\n",
    "for i, dk in enumerate(kspacing):\n",
    "    \n",
    "    zt_max = zt_min + dk\n",
    "    z0_max = z0_min + dk\n",
    "\n",
    "    zt_range = (zt_min, zt_max)\n",
    "    z0_range = (z0_min, z0_max)\n",
    "    \n",
    "    zt, z0, zt_int, z0_int, sigma_zt, sigma_z0 = grid.optimise(window_size,\n",
    "                                                               xpt, \n",
    "                                                               ypt,\n",
    "                                                               zt_range,\n",
    "                                                               z0_range,\n",
    "                                                               taper=None)\n",
    "        \n",
    "    CPD, sigma_CPD = grid.calculate_CPD(zt, z0, sigma_zt, sigma_z0)\n",
    "    \n",
    "    CPD_grid[i]       = CPD\n",
    "    sigma_CPD_grid[i] = sigma_CPD"
   ]
  },
  {
   "cell_type": "code",
   "execution_count": null,
   "metadata": {},
   "outputs": [],
   "source": [
    "fig2 = plt.figure(figsize=(8,8))\n",
    "ax2 = fig2.add_subplot(111)\n",
    "ax2.errorbar(kspacing, CPD_grid, yerr=sigma_CPD_grid, capsize=3)\n",
    "ax2.invert_yaxis()\n",
    "ax2.set_xlabel('Bandwidth (kmax - kmin)')\n",
    "ax2.set_ylabel('CPD depth (km)')"
   ]
  },
  {
   "cell_type": "markdown",
   "metadata": {},
   "source": [
    "The CPD estimates resulting from this test become consistent for $k$-bandwidths greater than approximately 0.1. Statistics improve with larger bandwidths, however, it is worth remaining aware of the typically non-linear trend of the spectrum, as it may not be appropriate for a linear fit over a large domain of $k$."
   ]
  },
  {
   "cell_type": "markdown",
   "metadata": {},
   "source": [
    "## Varying window size\n",
    "\n",
    "Effect of magnetic data window size - i.e., domain of magnetic data before computing the FFT."
   ]
  },
  {
   "cell_type": "code",
   "execution_count": null,
   "metadata": {},
   "outputs": [],
   "source": [
    "# 3) How large a window width of magnetic data is required?\n",
    "\n",
    "n_windows = 50\n",
    "window_sizes = np.linspace(50e3, 304e3, n_windows)\n",
    "\n",
    "CPD_grid       = np.zeros(n_windows)\n",
    "sigma_CPD_grid = np.zeros(n_windows)\n",
    "\n",
    "for i, window in enumerate(window_sizes):\n",
    "\n",
    "    zt, z0, zt_int, z0_int, sigma_zt, sigma_z0 = grid.optimise(window,\n",
    "                                                               xpt, \n",
    "                                                               ypt,\n",
    "                                                               taper=None)\n",
    "\n",
    "    CPD, sigma_CPD = grid.calculate_CPD(zt, z0, sigma_zt, sigma_z0)\n",
    "    \n",
    "    CPD_grid[i] = CPD\n",
    "    sigma_CPD_grid[i] = sigma_CPD"
   ]
  },
  {
   "cell_type": "code",
   "execution_count": null,
   "metadata": {},
   "outputs": [],
   "source": [
    "fig = plt.figure(figsize=(8,6))\n",
    "ax1 = fig.add_subplot(111, xlabel='Window size (km)', ylabel='CPD (km)')\n",
    "ax1.errorbar(window_sizes, CPD_grid, yerr=sigma_CPD_grid, capsize=3)"
   ]
  },
  {
   "cell_type": "markdown",
   "metadata": {},
   "source": [
    "The results of this test highlight that there is a significant amount of variability in the CPD estimates at all window sizes, inferring that where possible, a range of window sizes should be tested for any data set. However, the righthand plot of propagated error in the CPD estimates clarifies that estimates from larger windows are more robust. In particular, with the prior knowledge that the CPD of the test data is 16 km, window sizes of greater than 80 km show a reduced improvement in precision. "
   ]
  },
  {
   "cell_type": "code",
   "execution_count": null,
   "metadata": {},
   "outputs": [],
   "source": []
  }
 ],
 "metadata": {
  "kernelspec": {
   "display_name": "Python 3 (ipykernel)",
   "language": "python",
   "name": "python3"
  },
  "language_info": {
   "codemirror_mode": {
    "name": "ipython",
    "version": 3
   },
   "file_extension": ".py",
   "mimetype": "text/x-python",
   "name": "python",
   "nbconvert_exporter": "python",
   "pygments_lexer": "ipython3",
   "version": "3.9.10"
  }
 },
 "nbformat": 4,
 "nbformat_minor": 2
}
