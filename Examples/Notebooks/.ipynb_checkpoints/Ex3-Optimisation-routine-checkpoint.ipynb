{
 "cells": [
  {
   "cell_type": "markdown",
   "metadata": {},
   "source": [
    "# Example 3 - Optimisation routine\n",
    "\n",
    "In Examples 2a and 2b we computed the Curie depth for a single point using a fixed window. Here, we use `CurieOptimise` object to compute the Curie depth over an entire magnetic anomaly.\n",
    "\n",
    "`CurieOptimise` inherits all methods from `CurieGrid` in addition to:\n",
    "\n",
    "- iteratively evaluate the Curie depth across the magnetic anomaly\n",
    "- add priors to limit spurious Curie depth determinations\n",
    "- optimise Curie depth parameters using constraints from an objective function\n",
    "\n",
    "### Contents\n",
    "\n",
    "- [The inverse problem](#The-inverse-problem)\n",
    "- [Iterate across magnetic anomaly](#Iterate-across-magnetic-anomaly)\n",
    "- [Compare Bouligand to Tanaka](#Compare-Bouligand-to-Tanaka)"
   ]
  },
  {
   "cell_type": "code",
   "execution_count": null,
   "metadata": {},
   "outputs": [],
   "source": [
    "import numpy as np\n",
    "import matplotlib.pyplot as plt\n",
    "%matplotlib inline\n",
    "\n",
    "import pycurious"
   ]
  },
  {
   "cell_type": "code",
   "execution_count": null,
   "metadata": {},
   "outputs": [],
   "source": [
    "# load x,y,anomaly\n",
    "mag_data = np.loadtxt(\"../data/test_mag_data.txt\")\n",
    "\n",
    "nx, ny = 305, 305\n",
    "\n",
    "x = mag_data[:,0]\n",
    "y = mag_data[:,1]\n",
    "d = mag_data[:,2].reshape(ny,nx)\n",
    "\n",
    "xmin, xmax = x.min(), x.max()\n",
    "ymin, ymax = y.min(), y.max()"
   ]
  },
  {
   "cell_type": "code",
   "execution_count": null,
   "metadata": {},
   "outputs": [],
   "source": [
    "# initialise CurieOptimise object\n",
    "grid = pycurious.CurieOptimise(d, xmin, xmax, ymin, ymax)\n",
    "\n",
    "window_size = 200e3\n",
    "xc_list, yc_list = grid.create_centroid_list(window_size)"
   ]
  },
  {
   "cell_type": "markdown",
   "metadata": {},
   "source": [
    "## The inverse problem\n",
    "\n",
    "It is notoriously difficult to estimate uncertainties from Curie depth determinations. Intuitively, the fewer points in the power spectrum should result in higher uncertainty, but it is difficult to quantify these uncertainties in practise. For [Bouligand *et al.*, 2009](http://doi.wiley.com/10.1029/2009JB006494) it is difficult to determine the values of $\\beta$ and $\\Delta z$ since both control the slope of the power spectrum at low wavenumbers. Similarly, for [Tanaka *et al.*, 1999](http://linkinghub.elsevier.com/retrieve/pii/S0040195199000724) the lower and upper ranges of the power spectrum used to compute $z_b$ and $z_t$ is highly subjective and can result in significantly different Curie depths.\n",
    "\n",
    "Here, we aim to assess the uncertainty of Curie depth determinations using a sensitivity analysis. The approach we outline here is not necessarily the most statistically robust methodology, but it is intended as a practical way forward to compute Curie depth while considering the high degree of uncertainty."
   ]
  },
  {
   "cell_type": "code",
   "execution_count": null,
   "metadata": {},
   "outputs": [],
   "source": []
  },
  {
   "cell_type": "markdown",
   "metadata": {},
   "source": [
    "### Parameter Exploration of Spectral Analysis method (Tanaka)\n",
    "\n",
    "Due to the deterministic approach that [Tanaka *et al.*, 1999](http://linkinghub.elsevier.com/retrieve/pii/S0040195199000724) uses for estimating $Z_b$, the uncertainties returned by `CurieGrid.tanaka1999` are the simple results of error propagation from the initial spectra uncertainties. It should also be noted that the spectra uncertainties represent the variance within the sampled sector of the 2D FFT, and may comprise both noise and anisotropic signal.\n",
    "\n",
    "We present here several tests of the `CurieGrid.tanaka1999` function in order to explore how the input parameters affect the resulting Curie point depth estimates. In particular, we consider the following:\n",
    "1. Effect of magnetic data window size (i.e., domain of magnetic data before computing FFT).\n",
    "2. Effect of where in $k$-space is specific window used, separately for both the power and $k$-weighted power spectra (i.e., which $k$ do we consider?).\n",
    "3. Effect of $k$-space window size (i.e., how much of the $k$-domain do we consider?).\n"
   ]
  }
 ],
 "metadata": {
  "kernelspec": {
   "display_name": "Python 2",
   "language": "python",
   "name": "python2"
  },
  "language_info": {
   "codemirror_mode": {
    "name": "ipython",
    "version": 2
   },
   "file_extension": ".py",
   "mimetype": "text/x-python",
   "name": "python",
   "nbconvert_exporter": "python",
   "pygments_lexer": "ipython2",
   "version": "2.7.15rc1"
  }
 },
 "nbformat": 4,
 "nbformat_minor": 2
}
